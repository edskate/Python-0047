nome = 'ed',
idade = 23,
print = nome, idade 